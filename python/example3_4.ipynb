{
 "cells": [
  {
   "cell_type": "markdown",
   "metadata": {},
   "source": [
    "# Calculating Sharpe Ratio for Long-Only Vs Market Neutral Strategies"
   ]
  },
  {
   "cell_type": "code",
   "metadata": {
    "ExecuteTime": {
     "end_time": "2025-05-10T07:31:18.323868Z",
     "start_time": "2025-05-10T07:31:18.123412Z"
    }
   },
   "source": [
    "import numpy as np"
   ],
   "outputs": [],
   "execution_count": 1
  },
  {
   "cell_type": "code",
   "metadata": {
    "ExecuteTime": {
     "end_time": "2025-05-10T07:31:20.732126Z",
     "start_time": "2025-05-10T07:31:19.937100Z"
    }
   },
   "source": [
    "import pandas as pd"
   ],
   "outputs": [],
   "execution_count": 2
  },
  {
   "cell_type": "code",
   "metadata": {
    "ExecuteTime": {
     "end_time": "2025-05-10T07:31:21.863116Z",
     "start_time": "2025-05-10T07:31:21.107124Z"
    }
   },
   "source": [
    "import matplotlib.pyplot as plt"
   ],
   "outputs": [],
   "execution_count": 3
  },
  {
   "cell_type": "markdown",
   "metadata": {},
   "source": [
    "# First part of example"
   ]
  },
  {
   "cell_type": "code",
   "metadata": {
    "ExecuteTime": {
     "end_time": "2025-05-10T07:31:22.487157Z",
     "start_time": "2025-05-10T07:31:22.418757Z"
    }
   },
   "source": [
    "df=pd.read_excel('IGE.xls')"
   ],
   "outputs": [],
   "execution_count": 4
  },
  {
   "cell_type": "code",
   "metadata": {
    "ExecuteTime": {
     "end_time": "2025-05-10T07:31:27.638785Z",
     "start_time": "2025-05-10T07:31:27.635852Z"
    }
   },
   "source": [
    "df.sort_values(by='Date', inplace=True)"
   ],
   "outputs": [],
   "execution_count": 5
  },
  {
   "cell_type": "code",
   "metadata": {
    "ExecuteTime": {
     "end_time": "2025-05-10T07:31:28.742625Z",
     "start_time": "2025-05-10T07:31:28.739900Z"
    }
   },
   "source": [
    "dailyret=df.loc[:, 'Adj Close'].pct_change() # daily returns"
   ],
   "outputs": [],
   "execution_count": 6
  },
  {
   "cell_type": "code",
   "metadata": {
    "ExecuteTime": {
     "end_time": "2025-05-10T07:31:29.556398Z",
     "start_time": "2025-05-10T07:31:29.554283Z"
    }
   },
   "source": [
    "excessRet=dailyret-0.04/252 #  excess daily returns = strategy returns - financing cost, assuming risk-free rate of "
   ],
   "outputs": [],
   "execution_count": 7
  },
  {
   "cell_type": "code",
   "metadata": {
    "ExecuteTime": {
     "end_time": "2025-05-10T07:31:29.956095Z",
     "start_time": "2025-05-10T07:31:29.953725Z"
    }
   },
   "source": [
    "sharpeRatio=np.sqrt(252)*np.mean(excessRet)/np.std(excessRet)"
   ],
   "outputs": [],
   "execution_count": 8
  },
  {
   "cell_type": "code",
   "metadata": {
    "ExecuteTime": {
     "end_time": "2025-05-10T07:31:30.398512Z",
     "start_time": "2025-05-10T07:31:30.393113Z"
    }
   },
   "source": [
    "sharpeRatio"
   ],
   "outputs": [
    {
     "data": {
      "text/plain": [
       "np.float64(0.7895802501305731)"
      ]
     },
     "execution_count": 9,
     "metadata": {},
     "output_type": "execute_result"
    }
   ],
   "execution_count": 9
  },
  {
   "cell_type": "markdown",
   "metadata": {},
   "source": [
    "# Second part of example"
   ]
  },
  {
   "cell_type": "code",
   "metadata": {
    "ExecuteTime": {
     "end_time": "2025-05-10T07:31:32.316447Z",
     "start_time": "2025-05-10T07:31:32.285287Z"
    }
   },
   "source": [
    "df2=pd.read_excel('SPY.xls')"
   ],
   "outputs": [],
   "execution_count": 10
  },
  {
   "cell_type": "code",
   "metadata": {
    "ExecuteTime": {
     "end_time": "2025-05-10T07:31:32.892794Z",
     "start_time": "2025-05-10T07:31:32.887983Z"
    }
   },
   "source": [
    "df=pd.merge(df, df2, on='Date', suffixes=('_IGE', '_SPY'))"
   ],
   "outputs": [],
   "execution_count": 11
  },
  {
   "cell_type": "code",
   "metadata": {
    "ExecuteTime": {
     "end_time": "2025-05-10T07:31:33.489494Z",
     "start_time": "2025-05-10T07:31:33.485640Z"
    }
   },
   "source": [
    "df['Date']=pd.to_datetime(df['Date'])"
   ],
   "outputs": [],
   "execution_count": 12
  },
  {
   "cell_type": "code",
   "metadata": {
    "ExecuteTime": {
     "end_time": "2025-05-10T07:31:33.931856Z",
     "start_time": "2025-05-10T07:31:33.929317Z"
    }
   },
   "source": [
    "df.set_index('Date', inplace=True)"
   ],
   "outputs": [],
   "execution_count": 13
  },
  {
   "cell_type": "code",
   "metadata": {
    "ExecuteTime": {
     "end_time": "2025-05-10T07:31:34.255344Z",
     "start_time": "2025-05-10T07:31:34.253200Z"
    }
   },
   "source": [
    "df.sort_index(inplace=True)"
   ],
   "outputs": [],
   "execution_count": 14
  },
  {
   "cell_type": "code",
   "metadata": {
    "ExecuteTime": {
     "end_time": "2025-05-10T07:31:34.500784Z",
     "start_time": "2025-05-10T07:31:34.497304Z"
    }
   },
   "source": [
    "dailyret=df[['Adj Close_IGE', 'Adj Close_SPY']].pct_change() # daily returns"
   ],
   "outputs": [],
   "execution_count": 15
  },
  {
   "cell_type": "code",
   "metadata": {
    "ExecuteTime": {
     "end_time": "2025-05-10T07:31:43.852676Z",
     "start_time": "2025-05-10T07:31:43.850205Z"
    }
   },
   "source": [
    "dailyret.rename(columns={\"Adj Close_IGE\": \"IGE\", \"Adj Close_SPY\": \"SPY\"}, inplace=True)"
   ],
   "outputs": [],
   "execution_count": 16
  },
  {
   "cell_type": "code",
   "metadata": {
    "ExecuteTime": {
     "end_time": "2025-05-10T07:31:51.778185Z",
     "start_time": "2025-05-10T07:31:51.775932Z"
    }
   },
   "source": [
    "netRet=(dailyret['IGE']-dailyret['SPY'])/2"
   ],
   "outputs": [],
   "execution_count": 17
  },
  {
   "cell_type": "code",
   "metadata": {
    "ExecuteTime": {
     "end_time": "2025-05-10T07:31:58.718803Z",
     "start_time": "2025-05-10T07:31:58.716194Z"
    }
   },
   "source": [
    "sharpeRatio=np.sqrt(252)*np.mean(netRet)/np.std(netRet)"
   ],
   "outputs": [],
   "execution_count": 18
  },
  {
   "cell_type": "code",
   "metadata": {
    "ExecuteTime": {
     "end_time": "2025-05-10T07:32:05.023426Z",
     "start_time": "2025-05-10T07:32:05.020806Z"
    }
   },
   "source": [
    "sharpeRatio"
   ],
   "outputs": [
    {
     "data": {
      "text/plain": [
       "np.float64(0.7839419359681374)"
      ]
     },
     "execution_count": 19,
     "metadata": {},
     "output_type": "execute_result"
    }
   ],
   "execution_count": 19
  },
  {
   "cell_type": "code",
   "metadata": {
    "ExecuteTime": {
     "end_time": "2025-05-10T07:34:04.401491Z",
     "start_time": "2025-05-10T07:34:04.398838Z"
    }
   },
   "source": [
    "cumret=np.cumprod(1+netRet)-1"
   ],
   "outputs": [],
   "execution_count": 20
  },
  {
   "cell_type": "code",
   "metadata": {
    "ExecuteTime": {
     "end_time": "2025-05-10T07:34:53.529650Z",
     "start_time": "2025-05-10T07:34:53.434832Z"
    }
   },
   "source": "plt.plot(cumret)",
   "outputs": [
    {
     "data": {
      "text/plain": [
       "[<matplotlib.lines.Line2D at 0x70abb48c74d0>]"
      ]
     },
     "execution_count": 24,
     "metadata": {},
     "output_type": "execute_result"
    },
    {
     "data": {
      "text/plain": [
       "<Figure size 640x480 with 1 Axes>"
      ],
      "image/png": "[encoded data removed]"
     },
     "metadata": {},
     "output_type": "display_data"
    }
   ],
   "execution_count": 24
  },
  {
   "metadata": {
    "ExecuteTime": {
     "end_time": "2025-05-10T07:44:33.350021Z",
     "start_time": "2025-05-10T07:44:33.260389Z"
    }
   },
   "cell_type": "code",
   "source": "plt.plot(np.cumsum(netRet))",
   "outputs": [
    {
     "data": {
      "text/plain": [
       "[<matplotlib.lines.Line2D at 0x70abb4773890>]"
      ]
     },
     "execution_count": 26,
     "metadata": {},
     "output_type": "execute_result"
    },
    {
     "data": {
      "text/plain": [
       "<Figure size 640x480 with 1 Axes>"
      ],
      "image/png": "[encoded data removed]"
     },
     "metadata": {},
     "output_type": "display_data"
    }
   ],
   "execution_count": 26
  },
  {
   "cell_type": "code",
   "execution_count": 22,
   "metadata": {},
   "outputs": [],
   "source": "from calculateMaxDD import calculateMaxDD"
  },
  {
   "cell_type": "code",
   "execution_count": 23,
   "metadata": {},
   "outputs": [],
   "source": [
    "maxDrawdown, maxDrawdownDuration, startDrawdownDay=calculateMaxDD(cumret.values)"
   ]
  },
  {
   "cell_type": "code",
   "execution_count": 24,
   "metadata": {},
   "outputs": [
    {
     "data": {
      "text/plain": [
       "-0.09529268047208683"
      ]
     },
     "execution_count": 24,
     "metadata": {},
     "output_type": "execute_result"
    }
   ],
   "source": [
    "maxDrawdown"
   ]
  },
  {
   "cell_type": "code",
   "execution_count": 25,
   "metadata": {},
   "outputs": [
    {
     "data": {
      "text/plain": [
       "497.0"
      ]
     },
     "execution_count": 25,
     "metadata": {},
     "output_type": "execute_result"
    }
   ],
   "source": [
    "maxDrawdownDuration"
   ]
  },
  {
   "cell_type": "code",
   "execution_count": 26,
   "metadata": {},
   "outputs": [
    {
     "data": {
      "text/plain": [
       "1223"
      ]
     },
     "execution_count": 26,
     "metadata": {},
     "output_type": "execute_result"
    }
   ],
   "source": [
    "startDrawdownDay"
   ]
  }
 ],
 "metadata": {
  "kernelspec": {
   "display_name": "Python 3",
   "language": "python",
   "name": "python3"
  },
  "language_info": {
   "codemirror_mode": {
    "name": "ipython",
    "version": 3
   },
   "file_extension": ".py",
   "mimetype": "text/x-python",
   "name": "python",
   "nbconvert_exporter": "python",
   "pygments_lexer": "ipython3",
   "version": "3.7.3"
  }
 },
 "nbformat": 4,
 "nbformat_minor": 2
}
