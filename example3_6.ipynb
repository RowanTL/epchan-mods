{
 "cells": [
  {
   "cell_type": "markdown",
   "metadata": {},
   "source": [
    "# Pair Trading of GLD and GDX"
   ]
  },
  {
   "cell_type": "code",
   "execution_count": 5,
   "metadata": {},
   "outputs": [],
   "source": [
    "import numpy as np\n"
   ]
  },
  {
   "cell_type": "code",
   "execution_count": 6,
   "metadata": {},
   "outputs": [],
   "source": [
    "import pandas as pd"
   ]
  },
  {
   "cell_type": "code",
   "execution_count": 7,
   "metadata": {},
   "outputs": [],
   "source": [
    "import matplotlib.pyplot as plt"
   ]
  },
  {
   "cell_type": "code",
   "execution_count": 8,
   "metadata": {},
   "outputs": [],
   "source": [
    "import statsmodels.api as sm"
   ]
  },
  {
   "cell_type": "code",
   "execution_count": 9,
   "metadata": {},
   "outputs": [
    {
     "data": {
      "text/html": [
       "<div>\n",
       "<style scoped>\n",
       "    .dataframe tbody tr th:only-of-type {\n",
       "        vertical-align: middle;\n",
       "    }\n",
       "\n",
       "    .dataframe tbody tr th {\n",
       "        vertical-align: top;\n",
       "    }\n",
       "\n",
       "    .dataframe thead th {\n",
       "        text-align: right;\n",
       "    }\n",
       "</style>\n",
       "<table border=\"1\" class=\"dataframe\">\n",
       "  <thead>\n",
       "    <tr style=\"text-align: right;\">\n",
       "      <th></th>\n",
       "      <th>Date</th>\n",
       "      <th>Open</th>\n",
       "      <th>High</th>\n",
       "      <th>Low</th>\n",
       "      <th>Close</th>\n",
       "      <th>Volume</th>\n",
       "      <th>Adj Close</th>\n",
       "    </tr>\n",
       "  </thead>\n",
       "  <tbody>\n",
       "    <tr>\n",
       "      <th>0</th>\n",
       "      <td>2007-11-30</td>\n",
       "      <td>78.35</td>\n",
       "      <td>78.60</td>\n",
       "      <td>76.98</td>\n",
       "      <td>77.32</td>\n",
       "      <td>9509100</td>\n",
       "      <td>77.32</td>\n",
       "    </tr>\n",
       "    <tr>\n",
       "      <th>1</th>\n",
       "      <td>2007-11-29</td>\n",
       "      <td>79.28</td>\n",
       "      <td>79.33</td>\n",
       "      <td>78.28</td>\n",
       "      <td>78.28</td>\n",
       "      <td>9306700</td>\n",
       "      <td>78.28</td>\n",
       "    </tr>\n",
       "    <tr>\n",
       "      <th>2</th>\n",
       "      <td>2007-11-28</td>\n",
       "      <td>79.42</td>\n",
       "      <td>79.87</td>\n",
       "      <td>78.76</td>\n",
       "      <td>79.57</td>\n",
       "      <td>9706700</td>\n",
       "      <td>79.57</td>\n",
       "    </tr>\n",
       "    <tr>\n",
       "      <th>3</th>\n",
       "      <td>2007-11-27</td>\n",
       "      <td>80.70</td>\n",
       "      <td>80.89</td>\n",
       "      <td>79.81</td>\n",
       "      <td>80.10</td>\n",
       "      <td>7229900</td>\n",
       "      <td>80.10</td>\n",
       "    </tr>\n",
       "    <tr>\n",
       "      <th>4</th>\n",
       "      <td>2007-11-26</td>\n",
       "      <td>82.25</td>\n",
       "      <td>82.25</td>\n",
       "      <td>81.13</td>\n",
       "      <td>81.30</td>\n",
       "      <td>7440200</td>\n",
       "      <td>81.30</td>\n",
       "    </tr>\n",
       "    <tr>\n",
       "      <th>...</th>\n",
       "      <td>...</td>\n",
       "      <td>...</td>\n",
       "      <td>...</td>\n",
       "      <td>...</td>\n",
       "      <td>...</td>\n",
       "      <td>...</td>\n",
       "      <td>...</td>\n",
       "    </tr>\n",
       "    <tr>\n",
       "      <th>759</th>\n",
       "      <td>2004-11-24</td>\n",
       "      <td>44.93</td>\n",
       "      <td>45.05</td>\n",
       "      <td>44.79</td>\n",
       "      <td>45.05</td>\n",
       "      <td>6105100</td>\n",
       "      <td>45.05</td>\n",
       "    </tr>\n",
       "    <tr>\n",
       "      <th>760</th>\n",
       "      <td>2004-11-23</td>\n",
       "      <td>44.88</td>\n",
       "      <td>44.92</td>\n",
       "      <td>44.72</td>\n",
       "      <td>44.75</td>\n",
       "      <td>3169200</td>\n",
       "      <td>44.75</td>\n",
       "    </tr>\n",
       "    <tr>\n",
       "      <th>761</th>\n",
       "      <td>2004-11-22</td>\n",
       "      <td>44.75</td>\n",
       "      <td>44.97</td>\n",
       "      <td>44.74</td>\n",
       "      <td>44.95</td>\n",
       "      <td>11996000</td>\n",
       "      <td>44.95</td>\n",
       "    </tr>\n",
       "    <tr>\n",
       "      <th>762</th>\n",
       "      <td>2004-11-19</td>\n",
       "      <td>44.49</td>\n",
       "      <td>44.92</td>\n",
       "      <td>44.47</td>\n",
       "      <td>44.78</td>\n",
       "      <td>11655300</td>\n",
       "      <td>44.78</td>\n",
       "    </tr>\n",
       "    <tr>\n",
       "      <th>763</th>\n",
       "      <td>2004-11-18</td>\n",
       "      <td>44.43</td>\n",
       "      <td>44.49</td>\n",
       "      <td>44.07</td>\n",
       "      <td>44.38</td>\n",
       "      <td>5991500</td>\n",
       "      <td>44.38</td>\n",
       "    </tr>\n",
       "  </tbody>\n",
       "</table>\n",
       "<p>764 rows × 7 columns</p>\n",
       "</div>"
      ],
      "text/plain": [
       "          Date   Open   High    Low  Close    Volume  Adj Close\n",
       "0   2007-11-30  78.35  78.60  76.98  77.32   9509100      77.32\n",
       "1   2007-11-29  79.28  79.33  78.28  78.28   9306700      78.28\n",
       "2   2007-11-28  79.42  79.87  78.76  79.57   9706700      79.57\n",
       "3   2007-11-27  80.70  80.89  79.81  80.10   7229900      80.10\n",
       "4   2007-11-26  82.25  82.25  81.13  81.30   7440200      81.30\n",
       "..         ...    ...    ...    ...    ...       ...        ...\n",
       "759 2004-11-24  44.93  45.05  44.79  45.05   6105100      45.05\n",
       "760 2004-11-23  44.88  44.92  44.72  44.75   3169200      44.75\n",
       "761 2004-11-22  44.75  44.97  44.74  44.95  11996000      44.95\n",
       "762 2004-11-19  44.49  44.92  44.47  44.78  11655300      44.78\n",
       "763 2004-11-18  44.43  44.49  44.07  44.38   5991500      44.38\n",
       "\n",
       "[764 rows x 7 columns]"
      ]
     },
     "execution_count": 9,
     "metadata": {},
     "output_type": "execute_result"
    }
   ],
   "source": [
    "df1=pd.read_excel('GLD.xls')\n",
    "df1"
   ]
  },
  {
   "cell_type": "code",
   "execution_count": 10,
   "metadata": {},
   "outputs": [
    {
     "data": {
      "text/html": [
       "<div>\n",
       "<style scoped>\n",
       "    .dataframe tbody tr th:only-of-type {\n",
       "        vertical-align: middle;\n",
       "    }\n",
       "\n",
       "    .dataframe tbody tr th {\n",
       "        vertical-align: top;\n",
       "    }\n",
       "\n",
       "    .dataframe thead th {\n",
       "        text-align: right;\n",
       "    }\n",
       "</style>\n",
       "<table border=\"1\" class=\"dataframe\">\n",
       "  <thead>\n",
       "    <tr style=\"text-align: right;\">\n",
       "      <th></th>\n",
       "      <th>Date</th>\n",
       "      <th>Open</th>\n",
       "      <th>High</th>\n",
       "      <th>Low</th>\n",
       "      <th>Close</th>\n",
       "      <th>Volume</th>\n",
       "      <th>Adj Close</th>\n",
       "    </tr>\n",
       "  </thead>\n",
       "  <tbody>\n",
       "    <tr>\n",
       "      <th>0</th>\n",
       "      <td>2007-11-30</td>\n",
       "      <td>47.09</td>\n",
       "      <td>47.50</td>\n",
       "      <td>45.70</td>\n",
       "      <td>46.36</td>\n",
       "      <td>2006000</td>\n",
       "      <td>46.36</td>\n",
       "    </tr>\n",
       "    <tr>\n",
       "      <th>1</th>\n",
       "      <td>2007-11-29</td>\n",
       "      <td>47.10</td>\n",
       "      <td>48.00</td>\n",
       "      <td>46.76</td>\n",
       "      <td>47.02</td>\n",
       "      <td>1668500</td>\n",
       "      <td>47.02</td>\n",
       "    </tr>\n",
       "    <tr>\n",
       "      <th>2</th>\n",
       "      <td>2007-11-28</td>\n",
       "      <td>46.11</td>\n",
       "      <td>48.00</td>\n",
       "      <td>46.06</td>\n",
       "      <td>47.86</td>\n",
       "      <td>3893200</td>\n",
       "      <td>47.86</td>\n",
       "    </tr>\n",
       "    <tr>\n",
       "      <th>3</th>\n",
       "      <td>2007-11-27</td>\n",
       "      <td>46.84</td>\n",
       "      <td>46.84</td>\n",
       "      <td>45.74</td>\n",
       "      <td>46.61</td>\n",
       "      <td>2329700</td>\n",
       "      <td>46.61</td>\n",
       "    </tr>\n",
       "    <tr>\n",
       "      <th>4</th>\n",
       "      <td>2007-11-26</td>\n",
       "      <td>49.43</td>\n",
       "      <td>49.43</td>\n",
       "      <td>46.85</td>\n",
       "      <td>47.06</td>\n",
       "      <td>1966500</td>\n",
       "      <td>47.06</td>\n",
       "    </tr>\n",
       "    <tr>\n",
       "      <th>...</th>\n",
       "      <td>...</td>\n",
       "      <td>...</td>\n",
       "      <td>...</td>\n",
       "      <td>...</td>\n",
       "      <td>...</td>\n",
       "      <td>...</td>\n",
       "      <td>...</td>\n",
       "    </tr>\n",
       "    <tr>\n",
       "      <th>380</th>\n",
       "      <td>2006-05-30</td>\n",
       "      <td>39.50</td>\n",
       "      <td>39.72</td>\n",
       "      <td>38.11</td>\n",
       "      <td>38.17</td>\n",
       "      <td>559100</td>\n",
       "      <td>38.06</td>\n",
       "    </tr>\n",
       "    <tr>\n",
       "      <th>381</th>\n",
       "      <td>2006-05-26</td>\n",
       "      <td>38.74</td>\n",
       "      <td>38.74</td>\n",
       "      <td>37.77</td>\n",
       "      <td>38.55</td>\n",
       "      <td>269400</td>\n",
       "      <td>38.44</td>\n",
       "    </tr>\n",
       "    <tr>\n",
       "      <th>382</th>\n",
       "      <td>2006-05-25</td>\n",
       "      <td>37.18</td>\n",
       "      <td>38.32</td>\n",
       "      <td>36.98</td>\n",
       "      <td>38.32</td>\n",
       "      <td>367000</td>\n",
       "      <td>38.21</td>\n",
       "    </tr>\n",
       "    <tr>\n",
       "      <th>383</th>\n",
       "      <td>2006-05-24</td>\n",
       "      <td>37.13</td>\n",
       "      <td>37.57</td>\n",
       "      <td>35.87</td>\n",
       "      <td>36.52</td>\n",
       "      <td>638600</td>\n",
       "      <td>36.41</td>\n",
       "    </tr>\n",
       "    <tr>\n",
       "      <th>384</th>\n",
       "      <td>2006-05-23</td>\n",
       "      <td>37.75</td>\n",
       "      <td>39.22</td>\n",
       "      <td>37.75</td>\n",
       "      <td>37.96</td>\n",
       "      <td>620900</td>\n",
       "      <td>37.85</td>\n",
       "    </tr>\n",
       "  </tbody>\n",
       "</table>\n",
       "<p>385 rows × 7 columns</p>\n",
       "</div>"
      ],
      "text/plain": [
       "          Date   Open   High    Low  Close   Volume  Adj Close\n",
       "0   2007-11-30  47.09  47.50  45.70  46.36  2006000      46.36\n",
       "1   2007-11-29  47.10  48.00  46.76  47.02  1668500      47.02\n",
       "2   2007-11-28  46.11  48.00  46.06  47.86  3893200      47.86\n",
       "3   2007-11-27  46.84  46.84  45.74  46.61  2329700      46.61\n",
       "4   2007-11-26  49.43  49.43  46.85  47.06  1966500      47.06\n",
       "..         ...    ...    ...    ...    ...      ...        ...\n",
       "380 2006-05-30  39.50  39.72  38.11  38.17   559100      38.06\n",
       "381 2006-05-26  38.74  38.74  37.77  38.55   269400      38.44\n",
       "382 2006-05-25  37.18  38.32  36.98  38.32   367000      38.21\n",
       "383 2006-05-24  37.13  37.57  35.87  36.52   638600      36.41\n",
       "384 2006-05-23  37.75  39.22  37.75  37.96   620900      37.85\n",
       "\n",
       "[385 rows x 7 columns]"
      ]
     },
     "execution_count": 10,
     "metadata": {},
     "output_type": "execute_result"
    }
   ],
   "source": [
    "df2=pd.read_excel('GDX.xls')\n",
    "df2"
   ]
  },
  {
   "cell_type": "code",
   "execution_count": 11,
   "metadata": {},
   "outputs": [
    {
     "data": {
      "text/html": [
       "<div>\n",
       "<style scoped>\n",
       "    .dataframe tbody tr th:only-of-type {\n",
       "        vertical-align: middle;\n",
       "    }\n",
       "\n",
       "    .dataframe tbody tr th {\n",
       "        vertical-align: top;\n",
       "    }\n",
       "\n",
       "    .dataframe thead th {\n",
       "        text-align: right;\n",
       "    }\n",
       "</style>\n",
       "<table border=\"1\" class=\"dataframe\">\n",
       "  <thead>\n",
       "    <tr style=\"text-align: right;\">\n",
       "      <th></th>\n",
       "      <th>Date</th>\n",
       "      <th>Open_GLD</th>\n",
       "      <th>High_GLD</th>\n",
       "      <th>Low_GLD</th>\n",
       "      <th>Close_GLD</th>\n",
       "      <th>Volume_GLD</th>\n",
       "      <th>Adj Close_GLD</th>\n",
       "      <th>Open_GDX</th>\n",
       "      <th>High_GDX</th>\n",
       "      <th>Low_GDX</th>\n",
       "      <th>Close_GDX</th>\n",
       "      <th>Volume_GDX</th>\n",
       "      <th>Adj Close_GDX</th>\n",
       "    </tr>\n",
       "  </thead>\n",
       "  <tbody>\n",
       "    <tr>\n",
       "      <th>0</th>\n",
       "      <td>2007-11-30</td>\n",
       "      <td>78.35</td>\n",
       "      <td>78.60</td>\n",
       "      <td>76.98</td>\n",
       "      <td>77.32</td>\n",
       "      <td>9509100</td>\n",
       "      <td>77.32</td>\n",
       "      <td>47.09</td>\n",
       "      <td>47.50</td>\n",
       "      <td>45.70</td>\n",
       "      <td>46.36</td>\n",
       "      <td>2006000</td>\n",
       "      <td>46.36</td>\n",
       "    </tr>\n",
       "    <tr>\n",
       "      <th>1</th>\n",
       "      <td>2007-11-29</td>\n",
       "      <td>79.28</td>\n",
       "      <td>79.33</td>\n",
       "      <td>78.28</td>\n",
       "      <td>78.28</td>\n",
       "      <td>9306700</td>\n",
       "      <td>78.28</td>\n",
       "      <td>47.10</td>\n",
       "      <td>48.00</td>\n",
       "      <td>46.76</td>\n",
       "      <td>47.02</td>\n",
       "      <td>1668500</td>\n",
       "      <td>47.02</td>\n",
       "    </tr>\n",
       "    <tr>\n",
       "      <th>2</th>\n",
       "      <td>2007-11-28</td>\n",
       "      <td>79.42</td>\n",
       "      <td>79.87</td>\n",
       "      <td>78.76</td>\n",
       "      <td>79.57</td>\n",
       "      <td>9706700</td>\n",
       "      <td>79.57</td>\n",
       "      <td>46.11</td>\n",
       "      <td>48.00</td>\n",
       "      <td>46.06</td>\n",
       "      <td>47.86</td>\n",
       "      <td>3893200</td>\n",
       "      <td>47.86</td>\n",
       "    </tr>\n",
       "    <tr>\n",
       "      <th>3</th>\n",
       "      <td>2007-11-27</td>\n",
       "      <td>80.70</td>\n",
       "      <td>80.89</td>\n",
       "      <td>79.81</td>\n",
       "      <td>80.10</td>\n",
       "      <td>7229900</td>\n",
       "      <td>80.10</td>\n",
       "      <td>46.84</td>\n",
       "      <td>46.84</td>\n",
       "      <td>45.74</td>\n",
       "      <td>46.61</td>\n",
       "      <td>2329700</td>\n",
       "      <td>46.61</td>\n",
       "    </tr>\n",
       "    <tr>\n",
       "      <th>4</th>\n",
       "      <td>2007-11-26</td>\n",
       "      <td>82.25</td>\n",
       "      <td>82.25</td>\n",
       "      <td>81.13</td>\n",
       "      <td>81.30</td>\n",
       "      <td>7440200</td>\n",
       "      <td>81.30</td>\n",
       "      <td>49.43</td>\n",
       "      <td>49.43</td>\n",
       "      <td>46.85</td>\n",
       "      <td>47.06</td>\n",
       "      <td>1966500</td>\n",
       "      <td>47.06</td>\n",
       "    </tr>\n",
       "    <tr>\n",
       "      <th>...</th>\n",
       "      <td>...</td>\n",
       "      <td>...</td>\n",
       "      <td>...</td>\n",
       "      <td>...</td>\n",
       "      <td>...</td>\n",
       "      <td>...</td>\n",
       "      <td>...</td>\n",
       "      <td>...</td>\n",
       "      <td>...</td>\n",
       "      <td>...</td>\n",
       "      <td>...</td>\n",
       "      <td>...</td>\n",
       "      <td>...</td>\n",
       "    </tr>\n",
       "    <tr>\n",
       "      <th>380</th>\n",
       "      <td>2006-05-30</td>\n",
       "      <td>65.20</td>\n",
       "      <td>66.24</td>\n",
       "      <td>65.00</td>\n",
       "      <td>65.11</td>\n",
       "      <td>8240200</td>\n",
       "      <td>65.11</td>\n",
       "      <td>39.50</td>\n",
       "      <td>39.72</td>\n",
       "      <td>38.11</td>\n",
       "      <td>38.17</td>\n",
       "      <td>559100</td>\n",
       "      <td>38.06</td>\n",
       "    </tr>\n",
       "    <tr>\n",
       "      <th>381</th>\n",
       "      <td>2006-05-26</td>\n",
       "      <td>65.01</td>\n",
       "      <td>65.10</td>\n",
       "      <td>63.75</td>\n",
       "      <td>65.10</td>\n",
       "      <td>5265900</td>\n",
       "      <td>65.10</td>\n",
       "      <td>38.74</td>\n",
       "      <td>38.74</td>\n",
       "      <td>37.77</td>\n",
       "      <td>38.55</td>\n",
       "      <td>269400</td>\n",
       "      <td>38.44</td>\n",
       "    </tr>\n",
       "    <tr>\n",
       "      <th>382</th>\n",
       "      <td>2006-05-25</td>\n",
       "      <td>64.12</td>\n",
       "      <td>64.76</td>\n",
       "      <td>63.76</td>\n",
       "      <td>64.70</td>\n",
       "      <td>6505400</td>\n",
       "      <td>64.70</td>\n",
       "      <td>37.18</td>\n",
       "      <td>38.32</td>\n",
       "      <td>36.98</td>\n",
       "      <td>38.32</td>\n",
       "      <td>367000</td>\n",
       "      <td>38.21</td>\n",
       "    </tr>\n",
       "    <tr>\n",
       "      <th>383</th>\n",
       "      <td>2006-05-24</td>\n",
       "      <td>64.83</td>\n",
       "      <td>65.16</td>\n",
       "      <td>63.22</td>\n",
       "      <td>64.06</td>\n",
       "      <td>11065600</td>\n",
       "      <td>64.06</td>\n",
       "      <td>37.13</td>\n",
       "      <td>37.57</td>\n",
       "      <td>35.87</td>\n",
       "      <td>36.52</td>\n",
       "      <td>638600</td>\n",
       "      <td>36.41</td>\n",
       "    </tr>\n",
       "    <tr>\n",
       "      <th>384</th>\n",
       "      <td>2006-05-23</td>\n",
       "      <td>65.99</td>\n",
       "      <td>67.16</td>\n",
       "      <td>65.91</td>\n",
       "      <td>66.38</td>\n",
       "      <td>10509700</td>\n",
       "      <td>66.38</td>\n",
       "      <td>37.75</td>\n",
       "      <td>39.22</td>\n",
       "      <td>37.75</td>\n",
       "      <td>37.96</td>\n",
       "      <td>620900</td>\n",
       "      <td>37.85</td>\n",
       "    </tr>\n",
       "  </tbody>\n",
       "</table>\n",
       "<p>385 rows × 13 columns</p>\n",
       "</div>"
      ],
      "text/plain": [
       "          Date  Open_GLD  High_GLD  Low_GLD  Close_GLD  Volume_GLD  \\\n",
       "0   2007-11-30     78.35     78.60    76.98      77.32     9509100   \n",
       "1   2007-11-29     79.28     79.33    78.28      78.28     9306700   \n",
       "2   2007-11-28     79.42     79.87    78.76      79.57     9706700   \n",
       "3   2007-11-27     80.70     80.89    79.81      80.10     7229900   \n",
       "4   2007-11-26     82.25     82.25    81.13      81.30     7440200   \n",
       "..         ...       ...       ...      ...        ...         ...   \n",
       "380 2006-05-30     65.20     66.24    65.00      65.11     8240200   \n",
       "381 2006-05-26     65.01     65.10    63.75      65.10     5265900   \n",
       "382 2006-05-25     64.12     64.76    63.76      64.70     6505400   \n",
       "383 2006-05-24     64.83     65.16    63.22      64.06    11065600   \n",
       "384 2006-05-23     65.99     67.16    65.91      66.38    10509700   \n",
       "\n",
       "     Adj Close_GLD  Open_GDX  High_GDX  Low_GDX  Close_GDX  Volume_GDX  \\\n",
       "0            77.32     47.09     47.50    45.70      46.36     2006000   \n",
       "1            78.28     47.10     48.00    46.76      47.02     1668500   \n",
       "2            79.57     46.11     48.00    46.06      47.86     3893200   \n",
       "3            80.10     46.84     46.84    45.74      46.61     2329700   \n",
       "4            81.30     49.43     49.43    46.85      47.06     1966500   \n",
       "..             ...       ...       ...      ...        ...         ...   \n",
       "380          65.11     39.50     39.72    38.11      38.17      559100   \n",
       "381          65.10     38.74     38.74    37.77      38.55      269400   \n",
       "382          64.70     37.18     38.32    36.98      38.32      367000   \n",
       "383          64.06     37.13     37.57    35.87      36.52      638600   \n",
       "384          66.38     37.75     39.22    37.75      37.96      620900   \n",
       "\n",
       "     Adj Close_GDX  \n",
       "0            46.36  \n",
       "1            47.02  \n",
       "2            47.86  \n",
       "3            46.61  \n",
       "4            47.06  \n",
       "..             ...  \n",
       "380          38.06  \n",
       "381          38.44  \n",
       "382          38.21  \n",
       "383          36.41  \n",
       "384          37.85  \n",
       "\n",
       "[385 rows x 13 columns]"
      ]
     },
     "execution_count": 11,
     "metadata": {},
     "output_type": "execute_result"
    }
   ],
   "source": [
    "df=pd.merge(df1, df2, on='Date', suffixes=('_GLD', '_GDX'))\n",
    "df"
   ]
  },
  {
   "cell_type": "code",
   "execution_count": 12,
   "metadata": {},
   "outputs": [
    {
     "data": {
      "text/html": [
       "<div>\n",
       "<style scoped>\n",
       "    .dataframe tbody tr th:only-of-type {\n",
       "        vertical-align: middle;\n",
       "    }\n",
       "\n",
       "    .dataframe tbody tr th {\n",
       "        vertical-align: top;\n",
       "    }\n",
       "\n",
       "    .dataframe thead th {\n",
       "        text-align: right;\n",
       "    }\n",
       "</style>\n",
       "<table border=\"1\" class=\"dataframe\">\n",
       "  <thead>\n",
       "    <tr style=\"text-align: right;\">\n",
       "      <th></th>\n",
       "      <th>Open_GLD</th>\n",
       "      <th>High_GLD</th>\n",
       "      <th>Low_GLD</th>\n",
       "      <th>Close_GLD</th>\n",
       "      <th>Volume_GLD</th>\n",
       "      <th>Adj Close_GLD</th>\n",
       "      <th>Open_GDX</th>\n",
       "      <th>High_GDX</th>\n",
       "      <th>Low_GDX</th>\n",
       "      <th>Close_GDX</th>\n",
       "      <th>Volume_GDX</th>\n",
       "      <th>Adj Close_GDX</th>\n",
       "    </tr>\n",
       "    <tr>\n",
       "      <th>Date</th>\n",
       "      <th></th>\n",
       "      <th></th>\n",
       "      <th></th>\n",
       "      <th></th>\n",
       "      <th></th>\n",
       "      <th></th>\n",
       "      <th></th>\n",
       "      <th></th>\n",
       "      <th></th>\n",
       "      <th></th>\n",
       "      <th></th>\n",
       "      <th></th>\n",
       "    </tr>\n",
       "  </thead>\n",
       "  <tbody>\n",
       "    <tr>\n",
       "      <th>2007-11-30</th>\n",
       "      <td>78.35</td>\n",
       "      <td>78.60</td>\n",
       "      <td>76.98</td>\n",
       "      <td>77.32</td>\n",
       "      <td>9509100</td>\n",
       "      <td>77.32</td>\n",
       "      <td>47.09</td>\n",
       "      <td>47.50</td>\n",
       "      <td>45.70</td>\n",
       "      <td>46.36</td>\n",
       "      <td>2006000</td>\n",
       "      <td>46.36</td>\n",
       "    </tr>\n",
       "    <tr>\n",
       "      <th>2007-11-29</th>\n",
       "      <td>79.28</td>\n",
       "      <td>79.33</td>\n",
       "      <td>78.28</td>\n",
       "      <td>78.28</td>\n",
       "      <td>9306700</td>\n",
       "      <td>78.28</td>\n",
       "      <td>47.10</td>\n",
       "      <td>48.00</td>\n",
       "      <td>46.76</td>\n",
       "      <td>47.02</td>\n",
       "      <td>1668500</td>\n",
       "      <td>47.02</td>\n",
       "    </tr>\n",
       "    <tr>\n",
       "      <th>2007-11-28</th>\n",
       "      <td>79.42</td>\n",
       "      <td>79.87</td>\n",
       "      <td>78.76</td>\n",
       "      <td>79.57</td>\n",
       "      <td>9706700</td>\n",
       "      <td>79.57</td>\n",
       "      <td>46.11</td>\n",
       "      <td>48.00</td>\n",
       "      <td>46.06</td>\n",
       "      <td>47.86</td>\n",
       "      <td>3893200</td>\n",
       "      <td>47.86</td>\n",
       "    </tr>\n",
       "    <tr>\n",
       "      <th>2007-11-27</th>\n",
       "      <td>80.70</td>\n",
       "      <td>80.89</td>\n",
       "      <td>79.81</td>\n",
       "      <td>80.10</td>\n",
       "      <td>7229900</td>\n",
       "      <td>80.10</td>\n",
       "      <td>46.84</td>\n",
       "      <td>46.84</td>\n",
       "      <td>45.74</td>\n",
       "      <td>46.61</td>\n",
       "      <td>2329700</td>\n",
       "      <td>46.61</td>\n",
       "    </tr>\n",
       "    <tr>\n",
       "      <th>2007-11-26</th>\n",
       "      <td>82.25</td>\n",
       "      <td>82.25</td>\n",
       "      <td>81.13</td>\n",
       "      <td>81.30</td>\n",
       "      <td>7440200</td>\n",
       "      <td>81.30</td>\n",
       "      <td>49.43</td>\n",
       "      <td>49.43</td>\n",
       "      <td>46.85</td>\n",
       "      <td>47.06</td>\n",
       "      <td>1966500</td>\n",
       "      <td>47.06</td>\n",
       "    </tr>\n",
       "    <tr>\n",
       "      <th>...</th>\n",
       "      <td>...</td>\n",
       "      <td>...</td>\n",
       "      <td>...</td>\n",
       "      <td>...</td>\n",
       "      <td>...</td>\n",
       "      <td>...</td>\n",
       "      <td>...</td>\n",
       "      <td>...</td>\n",
       "      <td>...</td>\n",
       "      <td>...</td>\n",
       "      <td>...</td>\n",
       "      <td>...</td>\n",
       "    </tr>\n",
       "    <tr>\n",
       "      <th>2006-05-30</th>\n",
       "      <td>65.20</td>\n",
       "      <td>66.24</td>\n",
       "      <td>65.00</td>\n",
       "      <td>65.11</td>\n",
       "      <td>8240200</td>\n",
       "      <td>65.11</td>\n",
       "      <td>39.50</td>\n",
       "      <td>39.72</td>\n",
       "      <td>38.11</td>\n",
       "      <td>38.17</td>\n",
       "      <td>559100</td>\n",
       "      <td>38.06</td>\n",
       "    </tr>\n",
       "    <tr>\n",
       "      <th>2006-05-26</th>\n",
       "      <td>65.01</td>\n",
       "      <td>65.10</td>\n",
       "      <td>63.75</td>\n",
       "      <td>65.10</td>\n",
       "      <td>5265900</td>\n",
       "      <td>65.10</td>\n",
       "      <td>38.74</td>\n",
       "      <td>38.74</td>\n",
       "      <td>37.77</td>\n",
       "      <td>38.55</td>\n",
       "      <td>269400</td>\n",
       "      <td>38.44</td>\n",
       "    </tr>\n",
       "    <tr>\n",
       "      <th>2006-05-25</th>\n",
       "      <td>64.12</td>\n",
       "      <td>64.76</td>\n",
       "      <td>63.76</td>\n",
       "      <td>64.70</td>\n",
       "      <td>6505400</td>\n",
       "      <td>64.70</td>\n",
       "      <td>37.18</td>\n",
       "      <td>38.32</td>\n",
       "      <td>36.98</td>\n",
       "      <td>38.32</td>\n",
       "      <td>367000</td>\n",
       "      <td>38.21</td>\n",
       "    </tr>\n",
       "    <tr>\n",
       "      <th>2006-05-24</th>\n",
       "      <td>64.83</td>\n",
       "      <td>65.16</td>\n",
       "      <td>63.22</td>\n",
       "      <td>64.06</td>\n",
       "      <td>11065600</td>\n",
       "      <td>64.06</td>\n",
       "      <td>37.13</td>\n",
       "      <td>37.57</td>\n",
       "      <td>35.87</td>\n",
       "      <td>36.52</td>\n",
       "      <td>638600</td>\n",
       "      <td>36.41</td>\n",
       "    </tr>\n",
       "    <tr>\n",
       "      <th>2006-05-23</th>\n",
       "      <td>65.99</td>\n",
       "      <td>67.16</td>\n",
       "      <td>65.91</td>\n",
       "      <td>66.38</td>\n",
       "      <td>10509700</td>\n",
       "      <td>66.38</td>\n",
       "      <td>37.75</td>\n",
       "      <td>39.22</td>\n",
       "      <td>37.75</td>\n",
       "      <td>37.96</td>\n",
       "      <td>620900</td>\n",
       "      <td>37.85</td>\n",
       "    </tr>\n",
       "  </tbody>\n",
       "</table>\n",
       "<p>385 rows × 12 columns</p>\n",
       "</div>"
      ],
      "text/plain": [
       "            Open_GLD  High_GLD  Low_GLD  Close_GLD  Volume_GLD  Adj Close_GLD  \\\n",
       "Date                                                                            \n",
       "2007-11-30     78.35     78.60    76.98      77.32     9509100          77.32   \n",
       "2007-11-29     79.28     79.33    78.28      78.28     9306700          78.28   \n",
       "2007-11-28     79.42     79.87    78.76      79.57     9706700          79.57   \n",
       "2007-11-27     80.70     80.89    79.81      80.10     7229900          80.10   \n",
       "2007-11-26     82.25     82.25    81.13      81.30     7440200          81.30   \n",
       "...              ...       ...      ...        ...         ...            ...   \n",
       "2006-05-30     65.20     66.24    65.00      65.11     8240200          65.11   \n",
       "2006-05-26     65.01     65.10    63.75      65.10     5265900          65.10   \n",
       "2006-05-25     64.12     64.76    63.76      64.70     6505400          64.70   \n",
       "2006-05-24     64.83     65.16    63.22      64.06    11065600          64.06   \n",
       "2006-05-23     65.99     67.16    65.91      66.38    10509700          66.38   \n",
       "\n",
       "            Open_GDX  High_GDX  Low_GDX  Close_GDX  Volume_GDX  Adj Close_GDX  \n",
       "Date                                                                           \n",
       "2007-11-30     47.09     47.50    45.70      46.36     2006000          46.36  \n",
       "2007-11-29     47.10     48.00    46.76      47.02     1668500          47.02  \n",
       "2007-11-28     46.11     48.00    46.06      47.86     3893200          47.86  \n",
       "2007-11-27     46.84     46.84    45.74      46.61     2329700          46.61  \n",
       "2007-11-26     49.43     49.43    46.85      47.06     1966500          47.06  \n",
       "...              ...       ...      ...        ...         ...            ...  \n",
       "2006-05-30     39.50     39.72    38.11      38.17      559100          38.06  \n",
       "2006-05-26     38.74     38.74    37.77      38.55      269400          38.44  \n",
       "2006-05-25     37.18     38.32    36.98      38.32      367000          38.21  \n",
       "2006-05-24     37.13     37.57    35.87      36.52      638600          36.41  \n",
       "2006-05-23     37.75     39.22    37.75      37.96      620900          37.85  \n",
       "\n",
       "[385 rows x 12 columns]"
      ]
     },
     "execution_count": 12,
     "metadata": {},
     "output_type": "execute_result"
    }
   ],
   "source": [
    "df.set_index('Date', inplace=True)\n",
    "df"
   ]
  },
  {
   "cell_type": "code",
   "execution_count": 13,
   "metadata": {},
   "outputs": [
    {
     "data": {
      "text/html": [
       "<div>\n",
       "<style scoped>\n",
       "    .dataframe tbody tr th:only-of-type {\n",
       "        vertical-align: middle;\n",
       "    }\n",
       "\n",
       "    .dataframe tbody tr th {\n",
       "        vertical-align: top;\n",
       "    }\n",
       "\n",
       "    .dataframe thead th {\n",
       "        text-align: right;\n",
       "    }\n",
       "</style>\n",
       "<table border=\"1\" class=\"dataframe\">\n",
       "  <thead>\n",
       "    <tr style=\"text-align: right;\">\n",
       "      <th></th>\n",
       "      <th>Open_GLD</th>\n",
       "      <th>High_GLD</th>\n",
       "      <th>Low_GLD</th>\n",
       "      <th>Close_GLD</th>\n",
       "      <th>Volume_GLD</th>\n",
       "      <th>Adj Close_GLD</th>\n",
       "      <th>Open_GDX</th>\n",
       "      <th>High_GDX</th>\n",
       "      <th>Low_GDX</th>\n",
       "      <th>Close_GDX</th>\n",
       "      <th>Volume_GDX</th>\n",
       "      <th>Adj Close_GDX</th>\n",
       "    </tr>\n",
       "    <tr>\n",
       "      <th>Date</th>\n",
       "      <th></th>\n",
       "      <th></th>\n",
       "      <th></th>\n",
       "      <th></th>\n",
       "      <th></th>\n",
       "      <th></th>\n",
       "      <th></th>\n",
       "      <th></th>\n",
       "      <th></th>\n",
       "      <th></th>\n",
       "      <th></th>\n",
       "      <th></th>\n",
       "    </tr>\n",
       "  </thead>\n",
       "  <tbody>\n",
       "    <tr>\n",
       "      <th>2006-05-23</th>\n",
       "      <td>65.99</td>\n",
       "      <td>67.16</td>\n",
       "      <td>65.91</td>\n",
       "      <td>66.38</td>\n",
       "      <td>10509700</td>\n",
       "      <td>66.38</td>\n",
       "      <td>37.75</td>\n",
       "      <td>39.22</td>\n",
       "      <td>37.75</td>\n",
       "      <td>37.96</td>\n",
       "      <td>620900</td>\n",
       "      <td>37.85</td>\n",
       "    </tr>\n",
       "    <tr>\n",
       "      <th>2006-05-24</th>\n",
       "      <td>64.83</td>\n",
       "      <td>65.16</td>\n",
       "      <td>63.22</td>\n",
       "      <td>64.06</td>\n",
       "      <td>11065600</td>\n",
       "      <td>64.06</td>\n",
       "      <td>37.13</td>\n",
       "      <td>37.57</td>\n",
       "      <td>35.87</td>\n",
       "      <td>36.52</td>\n",
       "      <td>638600</td>\n",
       "      <td>36.41</td>\n",
       "    </tr>\n",
       "    <tr>\n",
       "      <th>2006-05-25</th>\n",
       "      <td>64.12</td>\n",
       "      <td>64.76</td>\n",
       "      <td>63.76</td>\n",
       "      <td>64.70</td>\n",
       "      <td>6505400</td>\n",
       "      <td>64.70</td>\n",
       "      <td>37.18</td>\n",
       "      <td>38.32</td>\n",
       "      <td>36.98</td>\n",
       "      <td>38.32</td>\n",
       "      <td>367000</td>\n",
       "      <td>38.21</td>\n",
       "    </tr>\n",
       "    <tr>\n",
       "      <th>2006-05-26</th>\n",
       "      <td>65.01</td>\n",
       "      <td>65.10</td>\n",
       "      <td>63.75</td>\n",
       "      <td>65.10</td>\n",
       "      <td>5265900</td>\n",
       "      <td>65.10</td>\n",
       "      <td>38.74</td>\n",
       "      <td>38.74</td>\n",
       "      <td>37.77</td>\n",
       "      <td>38.55</td>\n",
       "      <td>269400</td>\n",
       "      <td>38.44</td>\n",
       "    </tr>\n",
       "    <tr>\n",
       "      <th>2006-05-30</th>\n",
       "      <td>65.20</td>\n",
       "      <td>66.24</td>\n",
       "      <td>65.00</td>\n",
       "      <td>65.11</td>\n",
       "      <td>8240200</td>\n",
       "      <td>65.11</td>\n",
       "      <td>39.50</td>\n",
       "      <td>39.72</td>\n",
       "      <td>38.11</td>\n",
       "      <td>38.17</td>\n",
       "      <td>559100</td>\n",
       "      <td>38.06</td>\n",
       "    </tr>\n",
       "    <tr>\n",
       "      <th>...</th>\n",
       "      <td>...</td>\n",
       "      <td>...</td>\n",
       "      <td>...</td>\n",
       "      <td>...</td>\n",
       "      <td>...</td>\n",
       "      <td>...</td>\n",
       "      <td>...</td>\n",
       "      <td>...</td>\n",
       "      <td>...</td>\n",
       "      <td>...</td>\n",
       "      <td>...</td>\n",
       "      <td>...</td>\n",
       "    </tr>\n",
       "    <tr>\n",
       "      <th>2007-11-26</th>\n",
       "      <td>82.25</td>\n",
       "      <td>82.25</td>\n",
       "      <td>81.13</td>\n",
       "      <td>81.30</td>\n",
       "      <td>7440200</td>\n",
       "      <td>81.30</td>\n",
       "      <td>49.43</td>\n",
       "      <td>49.43</td>\n",
       "      <td>46.85</td>\n",
       "      <td>47.06</td>\n",
       "      <td>1966500</td>\n",
       "      <td>47.06</td>\n",
       "    </tr>\n",
       "    <tr>\n",
       "      <th>2007-11-27</th>\n",
       "      <td>80.70</td>\n",
       "      <td>80.89</td>\n",
       "      <td>79.81</td>\n",
       "      <td>80.10</td>\n",
       "      <td>7229900</td>\n",
       "      <td>80.10</td>\n",
       "      <td>46.84</td>\n",
       "      <td>46.84</td>\n",
       "      <td>45.74</td>\n",
       "      <td>46.61</td>\n",
       "      <td>2329700</td>\n",
       "      <td>46.61</td>\n",
       "    </tr>\n",
       "    <tr>\n",
       "      <th>2007-11-28</th>\n",
       "      <td>79.42</td>\n",
       "      <td>79.87</td>\n",
       "      <td>78.76</td>\n",
       "      <td>79.57</td>\n",
       "      <td>9706700</td>\n",
       "      <td>79.57</td>\n",
       "      <td>46.11</td>\n",
       "      <td>48.00</td>\n",
       "      <td>46.06</td>\n",
       "      <td>47.86</td>\n",
       "      <td>3893200</td>\n",
       "      <td>47.86</td>\n",
       "    </tr>\n",
       "    <tr>\n",
       "      <th>2007-11-29</th>\n",
       "      <td>79.28</td>\n",
       "      <td>79.33</td>\n",
       "      <td>78.28</td>\n",
       "      <td>78.28</td>\n",
       "      <td>9306700</td>\n",
       "      <td>78.28</td>\n",
       "      <td>47.10</td>\n",
       "      <td>48.00</td>\n",
       "      <td>46.76</td>\n",
       "      <td>47.02</td>\n",
       "      <td>1668500</td>\n",
       "      <td>47.02</td>\n",
       "    </tr>\n",
       "    <tr>\n",
       "      <th>2007-11-30</th>\n",
       "      <td>78.35</td>\n",
       "      <td>78.60</td>\n",
       "      <td>76.98</td>\n",
       "      <td>77.32</td>\n",
       "      <td>9509100</td>\n",
       "      <td>77.32</td>\n",
       "      <td>47.09</td>\n",
       "      <td>47.50</td>\n",
       "      <td>45.70</td>\n",
       "      <td>46.36</td>\n",
       "      <td>2006000</td>\n",
       "      <td>46.36</td>\n",
       "    </tr>\n",
       "  </tbody>\n",
       "</table>\n",
       "<p>385 rows × 12 columns</p>\n",
       "</div>"
      ],
      "text/plain": [
       "            Open_GLD  High_GLD  Low_GLD  Close_GLD  Volume_GLD  Adj Close_GLD  \\\n",
       "Date                                                                            \n",
       "2006-05-23     65.99     67.16    65.91      66.38    10509700          66.38   \n",
       "2006-05-24     64.83     65.16    63.22      64.06    11065600          64.06   \n",
       "2006-05-25     64.12     64.76    63.76      64.70     6505400          64.70   \n",
       "2006-05-26     65.01     65.10    63.75      65.10     5265900          65.10   \n",
       "2006-05-30     65.20     66.24    65.00      65.11     8240200          65.11   \n",
       "...              ...       ...      ...        ...         ...            ...   \n",
       "2007-11-26     82.25     82.25    81.13      81.30     7440200          81.30   \n",
       "2007-11-27     80.70     80.89    79.81      80.10     7229900          80.10   \n",
       "2007-11-28     79.42     79.87    78.76      79.57     9706700          79.57   \n",
       "2007-11-29     79.28     79.33    78.28      78.28     9306700          78.28   \n",
       "2007-11-30     78.35     78.60    76.98      77.32     9509100          77.32   \n",
       "\n",
       "            Open_GDX  High_GDX  Low_GDX  Close_GDX  Volume_GDX  Adj Close_GDX  \n",
       "Date                                                                           \n",
       "2006-05-23     37.75     39.22    37.75      37.96      620900          37.85  \n",
       "2006-05-24     37.13     37.57    35.87      36.52      638600          36.41  \n",
       "2006-05-25     37.18     38.32    36.98      38.32      367000          38.21  \n",
       "2006-05-26     38.74     38.74    37.77      38.55      269400          38.44  \n",
       "2006-05-30     39.50     39.72    38.11      38.17      559100          38.06  \n",
       "...              ...       ...      ...        ...         ...            ...  \n",
       "2007-11-26     49.43     49.43    46.85      47.06     1966500          47.06  \n",
       "2007-11-27     46.84     46.84    45.74      46.61     2329700          46.61  \n",
       "2007-11-28     46.11     48.00    46.06      47.86     3893200          47.86  \n",
       "2007-11-29     47.10     48.00    46.76      47.02     1668500          47.02  \n",
       "2007-11-30     47.09     47.50    45.70      46.36     2006000          46.36  \n",
       "\n",
       "[385 rows x 12 columns]"
      ]
     },
     "execution_count": 13,
     "metadata": {},
     "output_type": "execute_result"
    }
   ],
   "source": [
    "df.sort_index(inplace=True)\n",
    "df"
   ]
  },
  {
   "cell_type": "code",
   "execution_count": 14,
   "metadata": {},
   "outputs": [
    {
     "data": {
      "text/plain": [
       "(385, 12)"
      ]
     },
     "execution_count": 14,
     "metadata": {},
     "output_type": "execute_result"
    }
   ],
   "source": [
    "df.shape"
   ]
  },
  {
   "cell_type": "code",
   "execution_count": 15,
   "metadata": {},
   "outputs": [
    {
     "data": {
      "text/plain": [
       "array([  0,   1,   2,   3,   4,   5,   6,   7,   8,   9,  10,  11,  12,\n",
       "        13,  14,  15,  16,  17,  18,  19,  20,  21,  22,  23,  24,  25,\n",
       "        26,  27,  28,  29,  30,  31,  32,  33,  34,  35,  36,  37,  38,\n",
       "        39,  40,  41,  42,  43,  44,  45,  46,  47,  48,  49,  50,  51,\n",
       "        52,  53,  54,  55,  56,  57,  58,  59,  60,  61,  62,  63,  64,\n",
       "        65,  66,  67,  68,  69,  70,  71,  72,  73,  74,  75,  76,  77,\n",
       "        78,  79,  80,  81,  82,  83,  84,  85,  86,  87,  88,  89,  90,\n",
       "        91,  92,  93,  94,  95,  96,  97,  98,  99, 100, 101, 102, 103,\n",
       "       104, 105, 106, 107, 108, 109, 110, 111, 112, 113, 114, 115, 116,\n",
       "       117, 118, 119, 120, 121, 122, 123, 124, 125, 126, 127, 128, 129,\n",
       "       130, 131, 132, 133, 134, 135, 136, 137, 138, 139, 140, 141, 142,\n",
       "       143, 144, 145, 146, 147, 148, 149, 150, 151, 152, 153, 154, 155,\n",
       "       156, 157, 158, 159, 160, 161, 162, 163, 164, 165, 166, 167, 168,\n",
       "       169, 170, 171, 172, 173, 174, 175, 176, 177, 178, 179, 180, 181,\n",
       "       182, 183, 184, 185, 186, 187, 188, 189, 190, 191, 192, 193, 194,\n",
       "       195, 196, 197, 198, 199, 200, 201, 202, 203, 204, 205, 206, 207,\n",
       "       208, 209, 210, 211, 212, 213, 214, 215, 216, 217, 218, 219, 220,\n",
       "       221, 222, 223, 224, 225, 226, 227, 228, 229, 230, 231, 232, 233,\n",
       "       234, 235, 236, 237, 238, 239, 240, 241, 242, 243, 244, 245, 246,\n",
       "       247, 248, 249, 250, 251])"
      ]
     },
     "execution_count": 15,
     "metadata": {},
     "output_type": "execute_result"
    }
   ],
   "source": [
    "trainset=np.arange(0, 252)\n",
    "trainset"
   ]
  },
  {
   "cell_type": "code",
   "execution_count": 16,
   "metadata": {},
   "outputs": [
    {
     "data": {
      "text/plain": [
       "array([252, 253, 254, 255, 256, 257, 258, 259, 260, 261, 262, 263, 264,\n",
       "       265, 266, 267, 268, 269, 270, 271, 272, 273, 274, 275, 276, 277,\n",
       "       278, 279, 280, 281, 282, 283, 284, 285, 286, 287, 288, 289, 290,\n",
       "       291, 292, 293, 294, 295, 296, 297, 298, 299, 300, 301, 302, 303,\n",
       "       304, 305, 306, 307, 308, 309, 310, 311, 312, 313, 314, 315, 316,\n",
       "       317, 318, 319, 320, 321, 322, 323, 324, 325, 326, 327, 328, 329,\n",
       "       330, 331, 332, 333, 334, 335, 336, 337, 338, 339, 340, 341, 342,\n",
       "       343, 344, 345, 346, 347, 348, 349, 350, 351, 352, 353, 354, 355,\n",
       "       356, 357, 358, 359, 360, 361, 362, 363, 364, 365, 366, 367, 368,\n",
       "       369, 370, 371, 372, 373, 374, 375, 376, 377, 378, 379, 380, 381,\n",
       "       382, 383, 384])"
      ]
     },
     "execution_count": 16,
     "metadata": {},
     "output_type": "execute_result"
    }
   ],
   "source": [
    "testset=np.arange(trainset.shape[0], df.shape[0])\n",
    "testset"
   ]
  },
  {
   "cell_type": "markdown",
   "metadata": {},
   "source": [
    "## Determine hedge ratio on trainset"
   ]
  },
  {
   "cell_type": "code",
   "execution_count": null,
   "metadata": {},
   "outputs": [],
   "source": [
    "model=sm.OLS(df.loc[:, 'Adj Close_GLD'].iloc[trainset], df.loc[:, 'Adj Close_GDX'].iloc[trainset])\n",
    "model"
   ]
  },
  {
   "cell_type": "code",
   "execution_count": 18,
   "metadata": {},
   "outputs": [
    {
     "data": {
      "text/plain": [
       "Date\n",
       "2006-05-23    66.38\n",
       "2006-05-24    64.06\n",
       "2006-05-25    64.70\n",
       "2006-05-26    65.10\n",
       "2006-05-30    65.11\n",
       "              ...  \n",
       "2007-11-26    81.30\n",
       "2007-11-27    80.10\n",
       "2007-11-28    79.57\n",
       "2007-11-29    78.28\n",
       "2007-11-30    77.32\n",
       "Name: Adj Close_GLD, Length: 385, dtype: float64"
      ]
     },
     "execution_count": 18,
     "metadata": {},
     "output_type": "execute_result"
    }
   ],
   "source": [
    "df.loc[:, 'Adj Close_GLD']\n"
   ]
  },
  {
   "cell_type": "code",
   "execution_count": 19,
   "metadata": {},
   "outputs": [],
   "source": [
    "results=model.fit()"
   ]
  },
  {
   "cell_type": "code",
   "execution_count": 25,
   "metadata": {},
   "outputs": [
    {
     "data": {
      "text/plain": [
       "Adj Close_GDX    1.631009\n",
       "dtype: float64"
      ]
     },
     "execution_count": 25,
     "metadata": {},
     "output_type": "execute_result"
    }
   ],
   "source": [
    "hedgeRatio=results.params\n",
    "hedgeRatio"
   ]
  },
  {
   "cell_type": "code",
   "execution_count": 22,
   "metadata": {},
   "outputs": [
    {
     "data": {
      "text/plain": [
       "Adj Close_GDX    1.631009\n",
       "dtype: float64"
      ]
     },
     "execution_count": 22,
     "metadata": {},
     "output_type": "execute_result"
    }
   ],
   "source": [
    "hedgeRatio"
   ]
  },
  {
   "cell_type": "markdown",
   "metadata": {},
   "source": [
    "##  spread = GLD - hedgeRatio*GDX"
   ]
  },
  {
   "cell_type": "code",
   "execution_count": 27,
   "metadata": {},
   "outputs": [
    {
     "name": "stderr",
     "output_type": "stream",
     "text": [
      "/tmp/nix-shell.wPvN6t/ipykernel_103855/3193976499.py:1: FutureWarning: Series.__getitem__ treating keys as positions is deprecated. In a future version, integer keys will always be treated as labels (consistent with DataFrame behavior). To access a value by position, use `ser.iloc[pos]`\n",
      "  spread=df.loc[:, 'Adj Close_GLD']-hedgeRatio[0]*df.loc[:, 'Adj Close_GDX']\n"
     ]
    },
    {
     "data": {
      "text/plain": [
       "Date\n",
       "2006-05-23    4.646311\n",
       "2006-05-24    4.674964\n",
       "2006-05-25    2.379148\n",
       "2006-05-26    2.404016\n",
       "2006-05-30    3.033799\n",
       "                ...   \n",
       "2007-11-26    4.544719\n",
       "2007-11-27    4.078673\n",
       "2007-11-28    1.509911\n",
       "2007-11-29    1.589959\n",
       "2007-11-30    1.706425\n",
       "Length: 385, dtype: float64"
      ]
     },
     "execution_count": 27,
     "metadata": {},
     "output_type": "execute_result"
    }
   ],
   "source": [
    "spread=df.loc[:, 'Adj Close_GLD']-hedgeRatio[0]*df.loc[:, 'Adj Close_GDX']\n",
    "spread"
   ]
  },
  {
   "cell_type": "code",
   "execution_count": 28,
   "metadata": {},
   "outputs": [
    {
     "data": {
      "text/plain": [
       "[<matplotlib.lines.Line2D at 0x7ffefe736120>]"
      ]
     },
     "execution_count": 28,
     "metadata": {},
     "output_type": "execute_result"
    },
    {
     "data": {
      "image/png": "[encoded data removed]",
      "text/plain": [
       "<Figure size 640x480 with 1 Axes>"
      ]
     },
     "metadata": {},
     "output_type": "display_data"
    }
   ],
   "source": [
    "plt.plot(spread.iloc[trainset])"
   ]
  },
  {
   "cell_type": "code",
   "execution_count": 18,
   "metadata": {},
   "outputs": [
    {
     "data": {
      "text/plain": [
       "[<matplotlib.lines.Line2D at 0x254c6228748>]"
      ]
     },
     "execution_count": 18,
     "metadata": {},
     "output_type": "execute_result"
    },
    {
     "data": {
      "image/png": "[encoded data removed]",
      "text/plain": [
       "<Figure size 432x288 with 1 Axes>"
      ]
     },
     "metadata": {
      "needs_background": "light"
     },
     "output_type": "display_data"
    }
   ],
   "source": [
    "plt.plot(spread.iloc[testset])"
   ]
  },
  {
   "cell_type": "code",
   "execution_count": 19,
   "metadata": {},
   "outputs": [],
   "source": [
    "spreadMean=np.mean(spread.iloc[trainset])"
   ]
  },
  {
   "cell_type": "code",
   "execution_count": 20,
   "metadata": {},
   "outputs": [
    {
     "data": {
      "text/plain": [
       "0.05219623850035999"
      ]
     },
     "execution_count": 20,
     "metadata": {},
     "output_type": "execute_result"
    }
   ],
   "source": [
    "spreadMean"
   ]
  },
  {
   "cell_type": "code",
   "execution_count": 21,
   "metadata": {},
   "outputs": [],
   "source": [
    "spreadStd=np.std(spread.iloc[trainset])"
   ]
  },
  {
   "cell_type": "code",
   "execution_count": 22,
   "metadata": {},
   "outputs": [
    {
     "data": {
      "text/plain": [
       "1.944860873496509"
      ]
     },
     "execution_count": 22,
     "metadata": {},
     "output_type": "execute_result"
    }
   ],
   "source": [
    "spreadStd"
   ]
  },
  {
   "cell_type": "code",
   "execution_count": 23,
   "metadata": {},
   "outputs": [],
   "source": [
    "df['zscore']=(spread-spreadMean)/spreadStd"
   ]
  },
  {
   "cell_type": "code",
   "execution_count": 24,
   "metadata": {},
   "outputs": [],
   "source": [
    "df['positions_GLD_Long']=0"
   ]
  },
  {
   "cell_type": "code",
   "execution_count": 25,
   "metadata": {},
   "outputs": [],
   "source": [
    "df['positions_GDX_Long']=0"
   ]
  },
  {
   "cell_type": "code",
   "execution_count": 26,
   "metadata": {},
   "outputs": [],
   "source": [
    "df['positions_GLD_Short']=0"
   ]
  },
  {
   "cell_type": "code",
   "execution_count": 27,
   "metadata": {},
   "outputs": [],
   "source": [
    "df['positions_GDX_Short']=0"
   ]
  },
  {
   "cell_type": "code",
   "execution_count": 28,
   "metadata": {},
   "outputs": [],
   "source": [
    "df.loc[df.zscore>=2, ('positions_GLD_Short', 'positions_GDX_Short')]=[-1, 1] # Short spread"
   ]
  },
  {
   "cell_type": "code",
   "execution_count": 29,
   "metadata": {},
   "outputs": [],
   "source": [
    "df.loc[df.zscore<=-2, ('positions_GLD_Long', 'positions_GDX_Long')]=[1, -1] # Buy spread"
   ]
  },
  {
   "cell_type": "code",
   "execution_count": 30,
   "metadata": {},
   "outputs": [],
   "source": [
    "df.loc[df.zscore<=1, ('positions_GLD_Short', 'positions_GDX_Short')]=0 # Exit short spread"
   ]
  },
  {
   "cell_type": "code",
   "execution_count": 31,
   "metadata": {},
   "outputs": [],
   "source": [
    "df.loc[df.zscore>=-1, ('positions_GLD_Long', 'positions_GDX_Long')]=0 # Exit long spread"
   ]
  },
  {
   "cell_type": "code",
   "execution_count": 32,
   "metadata": {},
   "outputs": [],
   "source": [
    "df.fillna(method='ffill', inplace=True) # ensure existing positions are carried forward unless there is an exit signal"
   ]
  },
  {
   "cell_type": "code",
   "execution_count": 33,
   "metadata": {},
   "outputs": [],
   "source": [
    "positions_Long=df.loc[:, ('positions_GLD_Long', 'positions_GDX_Long')]"
   ]
  },
  {
   "cell_type": "code",
   "execution_count": 34,
   "metadata": {},
   "outputs": [],
   "source": [
    "positions_Short=df.loc[:, ('positions_GLD_Short', 'positions_GDX_Short')]"
   ]
  },
  {
   "cell_type": "code",
   "execution_count": 35,
   "metadata": {},
   "outputs": [],
   "source": [
    "positions=np.array(positions_Long)+np.array(positions_Short)"
   ]
  },
  {
   "cell_type": "code",
   "execution_count": 36,
   "metadata": {},
   "outputs": [],
   "source": [
    "positions=pd.DataFrame(positions)"
   ]
  },
  {
   "cell_type": "code",
   "execution_count": 37,
   "metadata": {},
   "outputs": [],
   "source": [
    "dailyret=df.loc[:, ('Adj Close_GLD', 'Adj Close_GDX')].pct_change()"
   ]
  },
  {
   "cell_type": "code",
   "execution_count": 38,
   "metadata": {},
   "outputs": [],
   "source": [
    "pnl=(np.array(positions.shift())*np.array(dailyret)).sum(axis=1)"
   ]
  },
  {
   "cell_type": "code",
   "execution_count": 39,
   "metadata": {},
   "outputs": [],
   "source": [
    "sharpeTrainset=np.sqrt(252)*np.mean(pnl[trainset[1:]])/np.std(pnl[trainset[1:]])"
   ]
  },
  {
   "cell_type": "code",
   "execution_count": 40,
   "metadata": {},
   "outputs": [
    {
     "data": {
      "text/plain": [
       "1.9182982282569077"
      ]
     },
     "execution_count": 40,
     "metadata": {},
     "output_type": "execute_result"
    }
   ],
   "source": [
    "sharpeTrainset"
   ]
  },
  {
   "cell_type": "code",
   "execution_count": 41,
   "metadata": {},
   "outputs": [],
   "source": [
    "sharpeTestset=np.sqrt(252)*np.mean(pnl[testset])/np.std(pnl[testset])"
   ]
  },
  {
   "cell_type": "code",
   "execution_count": 42,
   "metadata": {},
   "outputs": [
    {
     "data": {
      "text/plain": [
       "1.494313761833427"
      ]
     },
     "execution_count": 42,
     "metadata": {},
     "output_type": "execute_result"
    }
   ],
   "source": [
    "sharpeTestset"
   ]
  },
  {
   "cell_type": "code",
   "execution_count": 43,
   "metadata": {},
   "outputs": [
    {
     "data": {
      "text/plain": [
       "[<matplotlib.lines.Line2D at 0x254c6339748>]"
      ]
     },
     "execution_count": 43,
     "metadata": {},
     "output_type": "execute_result"
    },
    {
     "data": {
      "image/png": "[encoded data removed]",
      "text/plain": [
       "<Figure size 432x288 with 1 Axes>"
      ]
     },
     "metadata": {
      "needs_background": "light"
     },
     "output_type": "display_data"
    }
   ],
   "source": [
    "plt.plot(np.cumsum(pnl[testset]))"
   ]
  },
  {
   "cell_type": "code",
   "execution_count": 44,
   "metadata": {},
   "outputs": [],
   "source": [
    "positions.to_pickle('example3_6_positions')"
   ]
  }
 ],
 "metadata": {
  "kernelspec": {
   "display_name": "Python 3",
   "language": "python",
   "name": "python3"
  },
  "language_info": {
   "codemirror_mode": {
    "name": "ipython",
    "version": 3
   },
   "file_extension": ".py",
   "mimetype": "text/x-python",
   "name": "python",
   "nbconvert_exporter": "python",
   "pygments_lexer": "ipython3",
   "version": "3.12.8"
  }
 },
 "nbformat": 4,
 "nbformat_minor": 2
}
